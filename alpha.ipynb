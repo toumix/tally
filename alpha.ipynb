{
 "cells": [
  {
   "cell_type": "markdown",
   "id": "98d0ce36",
   "metadata": {},
   "source": [
    "# Tally α"
   ]
  },
  {
   "cell_type": "markdown",
   "id": "68edea76",
   "metadata": {},
   "source": [
    "## Composition"
   ]
  },
  {
   "cell_type": "code",
   "execution_count": 1,
   "id": "7af9e23f",
   "metadata": {},
   "outputs": [
    {
     "data": {
      "image/png": "[encoded data removed]",
      "text/plain": [
       "<Figure size 500x500 with 1 Axes>"
      ]
     },
     "metadata": {},
     "output_type": "display_data"
    }
   ],
   "source": [
    "from tally import H, V, e\n",
    "\n",
    "composition = V(e, e, e) | e & H(e, e & e)\n",
    "\n",
    "composition.plot()"
   ]
  },
  {
   "cell_type": "markdown",
   "id": "6148b622",
   "metadata": {},
   "source": [
    "## Tree"
   ]
  },
  {
   "cell_type": "code",
   "execution_count": 2,
   "id": "1aef5f4c",
   "metadata": {},
   "outputs": [
    {
     "data": {
      "image/png": "[encoded data removed]",
      "text/plain": [
       "<Figure size 640x480 with 1 Axes>"
      ]
     },
     "metadata": {},
     "output_type": "display_data"
    }
   ],
   "source": [
    "diagram = composition.to_diagram()\n",
    "diagram.draw()"
   ]
  },
  {
   "cell_type": "markdown",
   "id": "3d68f7ee",
   "metadata": {},
   "source": [
    "## Circuit"
   ]
  },
  {
   "cell_type": "code",
   "execution_count": 3,
   "id": "bde8af70",
   "metadata": {},
   "outputs": [],
   "source": [
    "from numpy.random import rand, seed; seed(42)\n",
    "\n",
    "from discopy.monoidal import PRO\n",
    "from discopy.markov import Box, Functor, Category\n",
    "from discopy.quantum import qubit, Ty, Circuit, Discard, Measure, IQPansatz, Bits\n",
    "\n",
    "DEPTH = 1\n",
    "\n",
    "def ansatz(n_qubits, params):\n",
    "    return IQPansatz(n_qubits, params)\\\n",
    "        >> Discard((n_qubits - 1) // 2) @ qubit @ Discard(n_qubits // 2)\n",
    "\n",
    "params0 = rand(6)\n",
    "\n",
    "F = lambda params: Functor(\n",
    "    ob={PRO(1): qubit},\n",
    "    ar={Box('H', 3, 1): ansatz(3, params[0:2].reshape(1, 2)),\n",
    "        Box('V', 3, 1): ansatz(3, params[2:4].reshape(1, 2)),\n",
    "        Box('H', 2, 1): ansatz(2, params[4:5].reshape(1, 1)),\n",
    "        Box('V', 2, 1): ansatz(2, params[5:6].reshape(1, 1))},\n",
    "    cod=Category(Ty, Circuit))\n",
    "\n",
    "F0 = F(params0)\n",
    "\n",
    "circuit = F0(diagram) >> Measure() >> Bits(0)[::-1]"
   ]
  },
  {
   "cell_type": "code",
   "execution_count": 4,
   "id": "7e050140",
   "metadata": {
    "scrolled": true
   },
   "outputs": [
    {
     "data": {
      "text/html": [
       "<pre style=\"word-wrap: normal;white-space: pre;background: #fff0;line-height: 1.1;font-family: &quot;Courier New&quot;,Courier,monospace\">     ┌───┐                                                                                       \n",
       "q_0: ┤ H ├───────■───────────────────────────────────────────────────────────────────────────────\n",
       "     ├───┤ ┌─────┴──────┐                   ┌───┐                                             ┌─┐\n",
       "q_1: ┤ H ├─┤ Rz(4.5993) ├──────■────────────┤ H ├─────────────────────────────────────■───────┤M├\n",
       "     ├───┤ └────────────┘┌─────┴──────┐     └───┘                                     │       └╥┘\n",
       "q_2: ┤ H ├───────────────┤ Rz(3.7615) ├───────────────────────────────────────────────┼────────╫─\n",
       "     ├───┤               └────────────┘                                   ┌───┐┌──────┴──────┐ ║ \n",
       "q_3: ┤ H ├────────────────────────────────────────────────────────■───────┤ H ├┤ Rz(0.98029) ├─╫─\n",
       "     ├───┤                                            ┌───┐┌──────┴──────┐└───┘└─────────────┘ ║ \n",
       "q_4: ┤ H ├────────────────────────────────────■───────┤ H ├┤ Rz(0.98014) ├─────────────────────╫─\n",
       "     ├───┤                   ┌───┐     ┌──────┴──────┐└───┘└─────────────┘                     ║ \n",
       "q_5: ┤ H ├───────■───────────┤ H ├─────┤ Rz(0.98029) ├─────────────────────────────────────────╫─\n",
       "     ├───┤┌──────┴──────┐    └───┘     └─────────────┘                                         ║ \n",
       "q_6: ┤ H ├┤ Rz(0.98014) ├──────────────────────────────────────────────────────────────────────╫─\n",
       "     └───┘└─────────────┘                                                                      ║ \n",
       "c: 1/══════════════════════════════════════════════════════════════════════════════════════════╩═\n",
       "                                                                                               0 </pre>"
      ],
      "text/plain": [
       "     ┌───┐                                                                                       \n",
       "q_0: ┤ H ├───────■───────────────────────────────────────────────────────────────────────────────\n",
       "     ├───┤ ┌─────┴──────┐                   ┌───┐                                             ┌─┐\n",
       "q_1: ┤ H ├─┤ Rz(4.5993) ├──────■────────────┤ H ├─────────────────────────────────────■───────┤M├\n",
       "     ├───┤ └────────────┘┌─────┴──────┐     └───┘                                     │       └╥┘\n",
       "q_2: ┤ H ├───────────────┤ Rz(3.7615) ├───────────────────────────────────────────────┼────────╫─\n",
       "     ├───┤               └────────────┘                                   ┌───┐┌──────┴──────┐ ║ \n",
       "q_3: ┤ H ├────────────────────────────────────────────────────────■───────┤ H ├┤ Rz(0.98029) ├─╫─\n",
       "     ├───┤                                            ┌───┐┌──────┴──────┐└───┘└─────────────┘ ║ \n",
       "q_4: ┤ H ├────────────────────────────────────■───────┤ H ├┤ Rz(0.98014) ├─────────────────────╫─\n",
       "     ├───┤                   ┌───┐     ┌──────┴──────┐└───┘└─────────────┘                     ║ \n",
       "q_5: ┤ H ├───────■───────────┤ H ├─────┤ Rz(0.98029) ├─────────────────────────────────────────╫─\n",
       "     ├───┤┌──────┴──────┐    └───┘     └─────────────┘                                         ║ \n",
       "q_6: ┤ H ├┤ Rz(0.98014) ├──────────────────────────────────────────────────────────────────────╫─\n",
       "     └───┘└─────────────┘                                                                      ║ \n",
       "c: 1/══════════════════════════════════════════════════════════════════════════════════════════╩═\n",
       "                                                                                               0 "
      ]
     },
     "execution_count": 4,
     "metadata": {},
     "output_type": "execute_result"
    }
   ],
   "source": [
    "import warnings; warnings.filterwarnings(\"ignore\")\n",
    "from pytket.extensions.qiskit import AerBackend, tk_to_qiskit\n",
    "\n",
    "tk_to_qiskit(circuit.to_tk()).draw(fold=-1)"
   ]
  },
  {
   "cell_type": "code",
   "execution_count": 5,
   "id": "5b739a47",
   "metadata": {},
   "outputs": [
    {
     "data": {
      "text/plain": [
       "0.4169921875"
      ]
     },
     "execution_count": 5,
     "metadata": {},
     "output_type": "execute_result"
    }
   ],
   "source": [
    "backend = AerBackend()\n",
    "\n",
    "evaluate = lambda F, composition: float((\n",
    "    F(composition.to_diagram()) >> Measure() >> Bits(0)[::-1]).eval(\n",
    "        backend=backend, compilation=backend.default_compilation_pass()))\n",
    "\n",
    "evaluate(F0, composition)"
   ]
  },
  {
   "cell_type": "markdown",
   "id": "983b7cf5",
   "metadata": {},
   "source": [
    "## Repeat"
   ]
  },
  {
   "cell_type": "code",
   "execution_count": 6,
   "id": "e5d842b9",
   "metadata": {},
   "outputs": [
    {
     "data": {
      "image/png": "[encoded data removed]",
      "text/plain": [
       "<Figure size 500x500 with 1 Axes>"
      ]
     },
     "metadata": {},
     "output_type": "display_data"
    }
   ],
   "source": [
    "def rotate(composition):\n",
    "    for X, Y in [(H, V), (V, H)]:\n",
    "        if isinstance(composition, X):\n",
    "            return Y(*map(rotate, composition.terms))\n",
    "    return composition\n",
    "\n",
    "rotate(composition).plot()"
   ]
  },
  {
   "cell_type": "code",
   "execution_count": 7,
   "id": "1e88469f",
   "metadata": {},
   "outputs": [
    {
     "data": {
      "image/png": "[encoded data removed]",
      "text/plain": [
       "<Figure size 640x480 with 1 Axes>"
      ]
     },
     "metadata": {},
     "output_type": "display_data"
    }
   ],
   "source": [
    "rotate(composition).to_diagram().draw()"
   ]
  },
  {
   "cell_type": "code",
   "execution_count": 8,
   "id": "88fb0a24",
   "metadata": {},
   "outputs": [
    {
     "data": {
      "text/html": [
       "<pre style=\"word-wrap: normal;white-space: pre;background: #fff0;line-height: 1.1;font-family: &quot;Courier New&quot;,Courier,monospace\">     ┌───┐                                                                                       \n",
       "q_0: ┤ H ├───────■───────────────────────────────────────────────────────────────────────────────\n",
       "     ├───┤ ┌─────┴──────┐                   ┌───┐                                             ┌─┐\n",
       "q_1: ┤ H ├─┤ Rz(2.3533) ├──────■────────────┤ H ├─────────────────────────────────────■───────┤M├\n",
       "     ├───┤ └────────────┘┌─────┴──────┐     └───┘                                     │       └╥┘\n",
       "q_2: ┤ H ├───────────────┤ Rz(5.9735) ├───────────────────────────────────────────────┼────────╫─\n",
       "     ├───┤               └────────────┘                                   ┌───┐┌──────┴──────┐ ║ \n",
       "q_3: ┤ H ├────────────────────────────────────────────────────────■───────┤ H ├┤ Rz(0.98014) ├─╫─\n",
       "     ├───┤                                            ┌───┐┌──────┴──────┐└───┘└─────────────┘ ║ \n",
       "q_4: ┤ H ├────────────────────────────────────■───────┤ H ├┤ Rz(0.98029) ├─────────────────────╫─\n",
       "     ├───┤                   ┌───┐     ┌──────┴──────┐└───┘└─────────────┘                     ║ \n",
       "q_5: ┤ H ├───────■───────────┤ H ├─────┤ Rz(0.98014) ├─────────────────────────────────────────╫─\n",
       "     ├───┤┌──────┴──────┐    └───┘     └─────────────┘                                         ║ \n",
       "q_6: ┤ H ├┤ Rz(0.98029) ├──────────────────────────────────────────────────────────────────────╫─\n",
       "     └───┘└─────────────┘                                                                      ║ \n",
       "c: 1/══════════════════════════════════════════════════════════════════════════════════════════╩═\n",
       "                                                                                               0 </pre>"
      ],
      "text/plain": [
       "     ┌───┐                                                                                       \n",
       "q_0: ┤ H ├───────■───────────────────────────────────────────────────────────────────────────────\n",
       "     ├───┤ ┌─────┴──────┐                   ┌───┐                                             ┌─┐\n",
       "q_1: ┤ H ├─┤ Rz(2.3533) ├──────■────────────┤ H ├─────────────────────────────────────■───────┤M├\n",
       "     ├───┤ └────────────┘┌─────┴──────┐     └───┘                                     │       └╥┘\n",
       "q_2: ┤ H ├───────────────┤ Rz(5.9735) ├───────────────────────────────────────────────┼────────╫─\n",
       "     ├───┤               └────────────┘                                   ┌───┐┌──────┴──────┐ ║ \n",
       "q_3: ┤ H ├────────────────────────────────────────────────────────■───────┤ H ├┤ Rz(0.98014) ├─╫─\n",
       "     ├───┤                                            ┌───┐┌──────┴──────┐└───┘└─────────────┘ ║ \n",
       "q_4: ┤ H ├────────────────────────────────────■───────┤ H ├┤ Rz(0.98029) ├─────────────────────╫─\n",
       "     ├───┤                   ┌───┐     ┌──────┴──────┐└───┘└─────────────┘                     ║ \n",
       "q_5: ┤ H ├───────■───────────┤ H ├─────┤ Rz(0.98014) ├─────────────────────────────────────────╫─\n",
       "     ├───┤┌──────┴──────┐    └───┘     └─────────────┘                                         ║ \n",
       "q_6: ┤ H ├┤ Rz(0.98029) ├──────────────────────────────────────────────────────────────────────╫─\n",
       "     └───┘└─────────────┘                                                                      ║ \n",
       "c: 1/══════════════════════════════════════════════════════════════════════════════════════════╩═\n",
       "                                                                                               0 "
      ]
     },
     "execution_count": 8,
     "metadata": {},
     "output_type": "execute_result"
    }
   ],
   "source": [
    "circuit2 = F0(rotate(composition).to_diagram()) >> Measure()\n",
    "tk_to_qiskit(circuit2.to_tk()).draw(fold=-1)"
   ]
  },
  {
   "cell_type": "code",
   "execution_count": 9,
   "id": "bf45d43f",
   "metadata": {},
   "outputs": [
    {
     "data": {
      "text/plain": [
       "0.4453125"
      ]
     },
     "execution_count": 9,
     "metadata": {},
     "output_type": "execute_result"
    }
   ],
   "source": [
    "evaluate(F0, rotate(composition))"
   ]
  },
  {
   "cell_type": "markdown",
   "id": "c776f49e",
   "metadata": {},
   "source": [
    "### Both compositions have scores around 50%: Tally has no opinion...\n",
    "\n",
    "### Time to do some learning!"
   ]
  },
  {
   "cell_type": "markdown",
   "id": "5bb0f6e9",
   "metadata": {},
   "source": [
    "## Learn"
   ]
  },
  {
   "cell_type": "markdown",
   "id": "a34c140e",
   "metadata": {},
   "source": [
    "### Say that we like our first example, but not its rotation."
   ]
  },
  {
   "cell_type": "code",
   "execution_count": 10,
   "id": "544f37c4",
   "metadata": {},
   "outputs": [],
   "source": [
    "data = {composition: 1, rotate(composition): 0}"
   ]
  },
  {
   "cell_type": "code",
   "execution_count": 11,
   "id": "b2abd685",
   "metadata": {
    "scrolled": true
   },
   "outputs": [
    {
     "name": "stdout",
     "output_type": "stream",
     "text": [
      "Step 1: [0.3832536  0.95942779 0.72328046 0.60737197 0.14730516 0.14728104]\n",
      "Step 2: [0.36015396 0.98252743 0.70018082 0.63047161 0.12420552 0.1241814 ]\n",
      "Step 3: [0.30196005 0.92433352 0.64198691 0.5722777  0.0660116  0.06598748]\n",
      "Step 4: [0.2777767  0.90015017 0.66617025 0.59646104 0.09019495 0.04180414]\n",
      "Step 5: [0.23014882 0.94777805 0.71379814 0.64408893 0.13782283 0.08943202]\n",
      "Step 6: [0.15969279 0.87732202 0.64334211 0.5736329  0.06736681 0.15988805]\n",
      "Step 7: [0.11629731 0.83392654 0.68673759 0.53023742 0.11076229 0.11649257]\n",
      "Step 8: [0.04453437 0.90568948 0.75850052 0.45847448 0.03899935 0.04472963]\n",
      "Step 9: [0.02761872 0.88877382 0.74158487 0.44155883 0.02208369 0.06164528]\n",
      "Step 10: [-0.00638411  0.92277665  0.70758204  0.407556   -0.01191913  0.02764246]\n",
      "Step 11: [ 0.02780056  0.88859199  0.74176671  0.37337133 -0.0461038  -0.00654221]\n",
      "Step 12: [ 0.05369928  0.86269326  0.76766543  0.34747261 -0.02020508 -0.03244093]\n",
      "Step 13: [0.01499604 0.82399002 0.80636868 0.30876936 0.01849817 0.00626231]\n",
      "Step 14: [0.02425465 0.83324863 0.81562729 0.31802798 0.02775678 0.01552092]\n",
      "Step 15: [ 0.08128546  0.89027944  0.8726581   0.26099717 -0.02927403  0.07255173]\n",
      "Step 16: [ 0.06885521  0.87784919  0.86022785  0.24856692 -0.04170428  0.06012149]\n",
      "Step 17: [ 0.08273743  0.86396698  0.87411006  0.23468471 -0.02782206  0.0740037 ]\n",
      "Step 18: [ 0.0927489   0.85395551  0.88412153  0.22467323 -0.03783354  0.08401517]\n",
      "Step 19: [ 0.09990057  0.84680384  0.89127321  0.21752156 -0.04498521  0.09116685]\n",
      "Step 20: [ 0.06908617  0.87761823  0.86045881  0.18670716 -0.07579961  0.12198124]\n",
      "Step 21: [ 0.07157973  0.88011179  0.86295237  0.18920072 -0.07330605  0.1244748 ]\n"
     ]
    },
    {
     "data": {
      "text/plain": [
       " message: terminated after reaching max number of iterations\n",
       " success: True\n",
       "     fun: 0.014839649200439453\n",
       "       x: [ 7.158e-02  8.801e-01  8.630e-01  1.892e-01 -7.331e-02\n",
       "            1.245e-01]\n",
       "     nit: 21\n",
       "    nfev: 42"
      ]
     },
     "execution_count": 11,
     "metadata": {},
     "output_type": "execute_result"
    }
   ],
   "source": [
    "from time import time\n",
    "import numpy as np\n",
    "import noisyopt\n",
    "\n",
    "i, start, losses = 0, time(), []\n",
    "\n",
    "def callback(params):\n",
    "    global i\n",
    "    i += 1\n",
    "    losses.append(loss(params))\n",
    "    print(\"Step {}: {}\".format(i, params))\n",
    "\n",
    "def loss(params):\n",
    "    return np.mean(np.array([\n",
    "        (value - evaluate(F(params), composition)) ** 2\n",
    "        for composition, value in data.items()]))\n",
    "\n",
    "experiment = noisyopt.minimizeSPSA(\n",
    "    loss, params0, paired=False, callback=callback, niter=21)\n",
    "experiment"
   ]
  },
  {
   "cell_type": "code",
   "execution_count": 12,
   "id": "c1b2681a",
   "metadata": {},
   "outputs": [
    {
     "data": {
      "image/png": "[encoded data removed]",
      "text/plain": [
       "<Figure size 640x480 with 1 Axes>"
      ]
     },
     "metadata": {},
     "output_type": "display_data"
    }
   ],
   "source": [
    "import matplotlib.pyplot as plt\n",
    "\n",
    "plt.plot(-np.array(losses))\n",
    "plt.xlabel('step')\n",
    "plt.ylabel('loss')\n",
    "plt.show()"
   ]
  },
  {
   "cell_type": "code",
   "execution_count": 13,
   "id": "1e08d8ab",
   "metadata": {},
   "outputs": [
    {
     "data": {
      "text/plain": [
       "{(V(e, e, e) | e & (e | e & e)): 0.83984375,\n",
       " H(e, e, e) & (e | e & (e | e)): 0.05859375}"
      ]
     },
     "execution_count": 13,
     "metadata": {},
     "output_type": "execute_result"
    }
   ],
   "source": [
    "import warnings; warnings.filterwarnings(\"ignore\")\n",
    "from pytket.extensions.qiskit import AerBackend, tk_to_qiskit\n",
    "\n",
    "result = {c: evaluate(F(experiment.x), c) for c in data}\n",
    "result"
   ]
  },
  {
   "cell_type": "markdown",
   "id": "11c5b780",
   "metadata": {},
   "source": [
    "### Tally's score have come close enough to our human judgement..."
   ]
  },
  {
   "cell_type": "markdown",
   "id": "3ad834d5",
   "metadata": {},
   "source": [
    "### Our first quantum drawing experiment is a success!"
   ]
  }
 ],
 "metadata": {
  "kernelspec": {
   "display_name": "Python 3 (ipykernel)",
   "language": "python",
   "name": "python3"
  },
  "language_info": {
   "codemirror_mode": {
    "name": "ipython",
    "version": 3
   },
   "file_extension": ".py",
   "mimetype": "text/x-python",
   "name": "python",
   "nbconvert_exporter": "python",
   "pygments_lexer": "ipython3",
   "version": "3.10.9"
  }
 },
 "nbformat": 4,
 "nbformat_minor": 5
}
