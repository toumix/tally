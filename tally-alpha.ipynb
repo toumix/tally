{
 "cells": [
  {
   "cell_type": "markdown",
   "id": "98d0ce36",
   "metadata": {},
   "source": [
    "# Tally α"
   ]
  },
  {
   "cell_type": "markdown",
   "id": "af3e2f8b",
   "metadata": {},
   "source": [
    "## Composition"
   ]
  },
  {
   "cell_type": "code",
   "execution_count": 1,
   "id": "7af9e23f",
   "metadata": {},
   "outputs": [
    {
     "data": {
      "image/png": "[encoded data removed]",
      "text/plain": [
       "<Figure size 500x500 with 1 Axes>"
      ]
     },
     "metadata": {},
     "output_type": "display_data"
    }
   ],
   "source": [
    "from tally import H, V, e\n",
    "\n",
    "composition = V(e, e, e) | e & H(e, e & e)\n",
    "\n",
    "composition.draw()\n"
   ]
  },
  {
   "cell_type": "markdown",
   "id": "d518f4c9",
   "metadata": {},
   "source": [
    "## Tree"
   ]
  },
  {
   "cell_type": "code",
   "execution_count": 2,
   "id": "1aef5f4c",
   "metadata": {},
   "outputs": [
    {
     "data": {
      "image/png": "[encoded data removed]",
      "text/plain": [
       "<Figure size 640x480 with 1 Axes>"
      ]
     },
     "metadata": {},
     "output_type": "display_data"
    }
   ],
   "source": [
    "diagram = composition.to_diagram()\n",
    "diagram.draw()\n"
   ]
  },
  {
   "cell_type": "markdown",
   "id": "f07d08d3",
   "metadata": {},
   "source": [
    "## Circuit"
   ]
  },
  {
   "cell_type": "code",
   "execution_count": 3,
   "id": "bde8af70",
   "metadata": {},
   "outputs": [],
   "source": [
    "from numpy.random import rand, seed; seed(42)\n",
    "\n",
    "from discopy.monoidal import PRO\n",
    "from discopy.markov import Box, Functor, Category\n",
    "from discopy.quantum import qubit, Ty, Circuit, Discard, Measure, IQPansatz, Bits\n",
    "\n",
    "DEPTH = 1\n",
    "\n",
    "def ansatz(n_qubits, params):\n",
    "    return IQPansatz(n_qubits, params)\\\n",
    "        >> Discard((n_qubits - 1) // 2) @ qubit @ Discard(n_qubits // 2)\n",
    "\n",
    "params0 = rand(6)\n",
    "\n",
    "F = lambda params: Functor(\n",
    "    ob={PRO(1): qubit},\n",
    "    ar={Box('H', 3, 1): ansatz(3, params[0:2].reshape(1, 2)),\n",
    "        Box('V', 3, 1): ansatz(3, params[2:4].reshape(1, 2)),\n",
    "        Box('H', 2, 1): ansatz(2, params[4:5].reshape(1, 1)),\n",
    "        Box('V', 2, 1): ansatz(2, params[5:6].reshape(1, 1))},\n",
    "    cod=Category(Ty, Circuit))\n",
    "\n",
    "F0 = F(params0)\n",
    "\n",
    "circuit = F0(diagram) >> Measure() >> Bits(0)[::-1]\n"
   ]
  },
  {
   "cell_type": "code",
   "execution_count": 4,
   "id": "7e050140",
   "metadata": {
    "scrolled": true
   },
   "outputs": [
    {
     "data": {
      "text/html": [
       "<pre style=\"word-wrap: normal;white-space: pre;background: #fff0;line-height: 1.1;font-family: &quot;Courier New&quot;,Courier,monospace\">     ┌───┐                                                                                       \n",
       "q_0: ┤ H ├───────■───────────────────────────────────────────────────────────────────────────────\n",
       "     ├───┤ ┌─────┴──────┐                   ┌───┐                                             ┌─┐\n",
       "q_1: ┤ H ├─┤ Rz(4.5993) ├──────■────────────┤ H ├─────────────────────────────────────■───────┤M├\n",
       "     ├───┤ └────────────┘┌─────┴──────┐     └───┘                                     │       └╥┘\n",
       "q_2: ┤ H ├───────────────┤ Rz(3.7615) ├───────────────────────────────────────────────┼────────╫─\n",
       "     ├───┤               └────────────┘                                   ┌───┐┌──────┴──────┐ ║ \n",
       "q_3: ┤ H ├────────────────────────────────────────────────────────■───────┤ H ├┤ Rz(0.98029) ├─╫─\n",
       "     ├───┤                                            ┌───┐┌──────┴──────┐└───┘└─────────────┘ ║ \n",
       "q_4: ┤ H ├────────────────────────────────────■───────┤ H ├┤ Rz(0.98014) ├─────────────────────╫─\n",
       "     ├───┤                   ┌───┐     ┌──────┴──────┐└───┘└─────────────┘                     ║ \n",
       "q_5: ┤ H ├───────■───────────┤ H ├─────┤ Rz(0.98029) ├─────────────────────────────────────────╫─\n",
       "     ├───┤┌──────┴──────┐    └───┘     └─────────────┘                                         ║ \n",
       "q_6: ┤ H ├┤ Rz(0.98014) ├──────────────────────────────────────────────────────────────────────╫─\n",
       "     └───┘└─────────────┘                                                                      ║ \n",
       "c: 1/══════════════════════════════════════════════════════════════════════════════════════════╩═\n",
       "                                                                                               0 </pre>"
      ],
      "text/plain": [
       "     ┌───┐                                                                                       \n",
       "q_0: ┤ H ├───────■───────────────────────────────────────────────────────────────────────────────\n",
       "     ├───┤ ┌─────┴──────┐                   ┌───┐                                             ┌─┐\n",
       "q_1: ┤ H ├─┤ Rz(4.5993) ├──────■────────────┤ H ├─────────────────────────────────────■───────┤M├\n",
       "     ├───┤ └────────────┘┌─────┴──────┐     └───┘                                     │       └╥┘\n",
       "q_2: ┤ H ├───────────────┤ Rz(3.7615) ├───────────────────────────────────────────────┼────────╫─\n",
       "     ├───┤               └────────────┘                                   ┌───┐┌──────┴──────┐ ║ \n",
       "q_3: ┤ H ├────────────────────────────────────────────────────────■───────┤ H ├┤ Rz(0.98029) ├─╫─\n",
       "     ├───┤                                            ┌───┐┌──────┴──────┐└───┘└─────────────┘ ║ \n",
       "q_4: ┤ H ├────────────────────────────────────■───────┤ H ├┤ Rz(0.98014) ├─────────────────────╫─\n",
       "     ├───┤                   ┌───┐     ┌──────┴──────┐└───┘└─────────────┘                     ║ \n",
       "q_5: ┤ H ├───────■───────────┤ H ├─────┤ Rz(0.98029) ├─────────────────────────────────────────╫─\n",
       "     ├───┤┌──────┴──────┐    └───┘     └─────────────┘                                         ║ \n",
       "q_6: ┤ H ├┤ Rz(0.98014) ├──────────────────────────────────────────────────────────────────────╫─\n",
       "     └───┘└─────────────┘                                                                      ║ \n",
       "c: 1/══════════════════════════════════════════════════════════════════════════════════════════╩═\n",
       "                                                                                               0 "
      ]
     },
     "execution_count": 4,
     "metadata": {},
     "output_type": "execute_result"
    }
   ],
   "source": [
    "import warnings; warnings.filterwarnings(\"ignore\")\n",
    "from pytket.extensions.qiskit import AerBackend, tk_to_qiskit\n",
    "\n",
    "tk_to_qiskit(circuit.to_tk()).draw(fold=-1)\n"
   ]
  },
  {
   "cell_type": "code",
   "execution_count": 5,
   "id": "7dd69b6e",
   "metadata": {},
   "outputs": [
    {
     "data": {
      "text/plain": [
       "0.4228515625"
      ]
     },
     "execution_count": 5,
     "metadata": {},
     "output_type": "execute_result"
    }
   ],
   "source": [
    "backend = AerBackend()\n",
    "\n",
    "evaluate = lambda F, composition: float((\n",
    "    F(composition.to_diagram()) >> Measure() >> Bits(0)[::-1]).eval(\n",
    "        backend=backend, compilation=backend.default_compilation_pass()))\n",
    "\n",
    "evaluate(F0, composition)\n"
   ]
  },
  {
   "cell_type": "markdown",
   "id": "d4e25104",
   "metadata": {},
   "source": [
    "## Repeat"
   ]
  },
  {
   "cell_type": "code",
   "execution_count": 6,
   "id": "10844ddb",
   "metadata": {},
   "outputs": [
    {
     "data": {
      "image/png": "[encoded data removed]",
      "text/plain": [
       "<Figure size 500x500 with 1 Axes>"
      ]
     },
     "metadata": {},
     "output_type": "display_data"
    }
   ],
   "source": [
    "def flip(composition):\n",
    "    for X, Y in [(H, V), (V, H)]:\n",
    "        if composition.label is X:\n",
    "            return Y(*map(flip, composition.terms))\n",
    "    return composition\n",
    "\n",
    "flip(composition).draw()\n"
   ]
  },
  {
   "cell_type": "code",
   "execution_count": 7,
   "id": "d7f8f53d",
   "metadata": {},
   "outputs": [
    {
     "data": {
      "image/png": "[encoded data removed]",
      "text/plain": [
       "<Figure size 640x480 with 1 Axes>"
      ]
     },
     "metadata": {},
     "output_type": "display_data"
    }
   ],
   "source": [
    "rotate(composition).to_diagram().draw()\n"
   ]
  },
  {
   "cell_type": "code",
   "execution_count": 8,
   "id": "105a3fd3",
   "metadata": {},
   "outputs": [
    {
     "data": {
      "text/html": [
       "<pre style=\"word-wrap: normal;white-space: pre;background: #fff0;line-height: 1.1;font-family: &quot;Courier New&quot;,Courier,monospace\">     ┌───┐                                                                                       \n",
       "q_0: ┤ H ├───────■───────────────────────────────────────────────────────────────────────────────\n",
       "     ├───┤ ┌─────┴──────┐                   ┌───┐                                             ┌─┐\n",
       "q_1: ┤ H ├─┤ Rz(2.3533) ├──────■────────────┤ H ├─────────────────────────────────────■───────┤M├\n",
       "     ├───┤ └────────────┘┌─────┴──────┐     └───┘                                     │       └╥┘\n",
       "q_2: ┤ H ├───────────────┤ Rz(5.9735) ├───────────────────────────────────────────────┼────────╫─\n",
       "     ├───┤               └────────────┘                                   ┌───┐┌──────┴──────┐ ║ \n",
       "q_3: ┤ H ├────────────────────────────────────────────────────────■───────┤ H ├┤ Rz(0.98014) ├─╫─\n",
       "     ├───┤                                            ┌───┐┌──────┴──────┐└───┘└─────────────┘ ║ \n",
       "q_4: ┤ H ├────────────────────────────────────■───────┤ H ├┤ Rz(0.98029) ├─────────────────────╫─\n",
       "     ├───┤                   ┌───┐     ┌──────┴──────┐└───┘└─────────────┘                     ║ \n",
       "q_5: ┤ H ├───────■───────────┤ H ├─────┤ Rz(0.98014) ├─────────────────────────────────────────╫─\n",
       "     ├───┤┌──────┴──────┐    └───┘     └─────────────┘                                         ║ \n",
       "q_6: ┤ H ├┤ Rz(0.98029) ├──────────────────────────────────────────────────────────────────────╫─\n",
       "     └───┘└─────────────┘                                                                      ║ \n",
       "c: 1/══════════════════════════════════════════════════════════════════════════════════════════╩═\n",
       "                                                                                               0 </pre>"
      ],
      "text/plain": [
       "     ┌───┐                                                                                       \n",
       "q_0: ┤ H ├───────■───────────────────────────────────────────────────────────────────────────────\n",
       "     ├───┤ ┌─────┴──────┐                   ┌───┐                                             ┌─┐\n",
       "q_1: ┤ H ├─┤ Rz(2.3533) ├──────■────────────┤ H ├─────────────────────────────────────■───────┤M├\n",
       "     ├───┤ └────────────┘┌─────┴──────┐     └───┘                                     │       └╥┘\n",
       "q_2: ┤ H ├───────────────┤ Rz(5.9735) ├───────────────────────────────────────────────┼────────╫─\n",
       "     ├───┤               └────────────┘                                   ┌───┐┌──────┴──────┐ ║ \n",
       "q_3: ┤ H ├────────────────────────────────────────────────────────■───────┤ H ├┤ Rz(0.98014) ├─╫─\n",
       "     ├───┤                                            ┌───┐┌──────┴──────┐└───┘└─────────────┘ ║ \n",
       "q_4: ┤ H ├────────────────────────────────────■───────┤ H ├┤ Rz(0.98029) ├─────────────────────╫─\n",
       "     ├───┤                   ┌───┐     ┌──────┴──────┐└───┘└─────────────┘                     ║ \n",
       "q_5: ┤ H ├───────■───────────┤ H ├─────┤ Rz(0.98014) ├─────────────────────────────────────────╫─\n",
       "     ├───┤┌──────┴──────┐    └───┘     └─────────────┘                                         ║ \n",
       "q_6: ┤ H ├┤ Rz(0.98029) ├──────────────────────────────────────────────────────────────────────╫─\n",
       "     └───┘└─────────────┘                                                                      ║ \n",
       "c: 1/══════════════════════════════════════════════════════════════════════════════════════════╩═\n",
       "                                                                                               0 "
      ]
     },
     "execution_count": 8,
     "metadata": {},
     "output_type": "execute_result"
    }
   ],
   "source": [
    "circuit2 = F0(flip(composition).to_diagram()) >> Measure()\n",
    "tk_to_qiskit(circuit2.to_tk()).draw(fold=-1)\n"
   ]
  },
  {
   "cell_type": "code",
   "execution_count": 9,
   "id": "d1803ced",
   "metadata": {},
   "outputs": [
    {
     "data": {
      "text/plain": [
       "0.435546875"
      ]
     },
     "execution_count": 9,
     "metadata": {},
     "output_type": "execute_result"
    }
   ],
   "source": [
    "evaluate(F0, flip(composition))\n"
   ]
  },
  {
   "cell_type": "markdown",
   "id": "e4995bbf",
   "metadata": {},
   "source": [
    "### Both compositions have scores around 50%: Tally has no opinion...\n",
    "\n",
    "### Time to do some learning!"
   ]
  },
  {
   "cell_type": "markdown",
   "id": "da41c40b",
   "metadata": {},
   "source": [
    "## Learn"
   ]
  },
  {
   "cell_type": "markdown",
   "id": "b498f6e2",
   "metadata": {},
   "source": [
    "### Say that we like our first example, but not its rotation."
   ]
  },
  {
   "cell_type": "code",
   "execution_count": 10,
   "id": "59486ee6",
   "metadata": {},
   "outputs": [],
   "source": [
    "data = {composition: 1, flip(composition): 0}\n"
   ]
  },
  {
   "cell_type": "code",
   "execution_count": 11,
   "id": "5285e39b",
   "metadata": {
    "scrolled": true
   },
   "outputs": [
    {
     "name": "stdout",
     "output_type": "stream",
     "text": [
      "Step 1: [0.37572392 0.95189811 0.73081014 0.59984229 0.15483483 0.15481071]\n",
      "Step 2: [0.34239453 0.98522751 0.69748074 0.63317168 0.12150544 0.12148132]\n",
      "Step 3: [0.28645697 0.92928994 0.64154318 0.57723412 0.06556788 0.06554376]\n",
      "Step 4: [0.26130525 0.90413823 0.66669489 0.60238584 0.09071959 0.04039204]\n",
      "Step 5: [0.21265488 0.9527886  0.71534527 0.65103621 0.13936997 0.08904241]\n",
      "Step 6: [0.14466666 0.88480038 0.64735705 0.58304799 0.07138175 0.15703063]\n",
      "Step 7: [0.11398004 0.85411376 0.67804366 0.55236137 0.10206836 0.12634402]\n",
      "Step 8: [0.04309363 0.92500017 0.74893007 0.48147497 0.03118196 0.05545761]\n",
      "Step 9: [0.02639453 0.90830106 0.73223096 0.46477586 0.01448285 0.07215672]\n",
      "Step 10: [-0.01016455  0.94486014  0.69567188  0.42821678 -0.02207623  0.03559763]\n",
      "Step 11: [ 0.02232081  0.91237478  0.72815724  0.39573142 -0.05456159  0.00311228]\n",
      "Step 12: [ 0.05091347  0.88378212  0.75674991  0.36713876 -0.02596892 -0.02548039]\n",
      "Step 13: [0.01150605 0.84437469 0.79615733 0.32773133 0.0134385  0.01392703]\n",
      "Step 14: [0.01446326 0.8473319  0.79911455 0.33068854 0.01639571 0.01688424]\n",
      "Step 15: [ 0.06980626  0.9026749   0.85445755  0.27534554 -0.03894729  0.07222724]\n",
      "Step 16: [ 0.06036946  0.8932381   0.84502074  0.26590874 -0.04838409  0.06279044]\n",
      "Step 17: [ 0.08109239  0.87251517  0.86574367  0.24518581 -0.02766116  0.08351337]\n",
      "Step 18: [ 0.09431834  0.85928922  0.87896962  0.23195986 -0.04088711  0.09673932]\n",
      "Step 19: [ 0.10204125  0.85156631  0.88669253  0.22423695 -0.04861002  0.10446223]\n",
      "Step 20: [ 0.07078238  0.88282518  0.85543366  0.19297808 -0.07986889  0.1357211 ]\n",
      "Step 21: [ 0.06987818  0.88192099  0.85452947  0.19207388 -0.08077309  0.13481691]\n"
     ]
    },
    {
     "data": {
      "text/plain": [
       " message: terminated after reaching max number of iterations\n",
       " success: True\n",
       "     fun: 0.015497207641601562\n",
       "       x: [ 6.988e-02  8.819e-01  8.545e-01  1.921e-01 -8.077e-02\n",
       "            1.348e-01]\n",
       "     nit: 21\n",
       "    nfev: 42"
      ]
     },
     "execution_count": 11,
     "metadata": {},
     "output_type": "execute_result"
    }
   ],
   "source": [
    "from time import time\n",
    "import numpy as np\n",
    "import noisyopt\n",
    "\n",
    "i, start, losses = 0, time(), []\n",
    "\n",
    "def callback(params):\n",
    "    global i\n",
    "    i += 1\n",
    "    losses.append(loss(params))\n",
    "    print(\"Step {}: {}\".format(i, params))\n",
    "\n",
    "def loss(params):\n",
    "    return np.mean(np.array([\n",
    "        (value - evaluate(F(params), composition)) ** 2\n",
    "        for composition, value in data.items()]))\n",
    "\n",
    "experiment = noisyopt.minimizeSPSA(\n",
    "    loss, params0, paired=False, callback=callback, niter=21)\n",
    "experiment\n"
   ]
  },
  {
   "cell_type": "code",
   "execution_count": 12,
   "id": "f81e50b9",
   "metadata": {},
   "outputs": [
    {
     "data": {
      "image/png": "[encoded data removed]",
      "text/plain": [
       "<Figure size 640x480 with 1 Axes>"
      ]
     },
     "metadata": {},
     "output_type": "display_data"
    }
   ],
   "source": [
    "import matplotlib.pyplot as plt\n",
    "\n",
    "plt.draw(-np.array(losses))\n",
    "plt.xlabel('step')\n",
    "plt.ylabel('loss')\n",
    "plt.show()\n"
   ]
  },
  {
   "cell_type": "code",
   "execution_count": 13,
   "id": "64a4aace",
   "metadata": {},
   "outputs": [
    {
     "data": {
      "text/plain": [
       "{(V(e, e, e) | e & (e | e & e)): 0.828125,\n",
       " H(e, e, e) & (e | e & (e | e)): 0.0576171875}"
      ]
     },
     "execution_count": 13,
     "metadata": {},
     "output_type": "execute_result"
    }
   ],
   "source": [
    "{c: evaluate(F(experiment.x), c) for c in data}\n"
   ]
  },
  {
   "cell_type": "markdown",
   "id": "0035b6fc",
   "metadata": {},
   "source": [
    "### Tally's score have come close enough to our human judgement..."
   ]
  },
  {
   "cell_type": "markdown",
   "id": "3888bff8",
   "metadata": {},
   "source": [
    "### Our first quantum drawing experiment is a success!"
   ]
  }
 ],
 "metadata": {
  "kernelspec": {
   "display_name": "Python 3 (ipykernel)",
   "language": "python",
   "name": "python3"
  },
  "language_info": {
   "codemirror_mode": {
    "name": "ipython",
    "version": 3
   },
   "file_extension": ".py",
   "mimetype": "text/x-python",
   "name": "python",
   "nbconvert_exporter": "python",
   "pygments_lexer": "ipython3",
   "version": "3.10.9"
  }
 },
 "nbformat": 4,
 "nbformat_minor": 5
}
